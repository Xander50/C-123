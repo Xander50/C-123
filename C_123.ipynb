{
  "nbformat": 4,
  "nbformat_minor": 0,
  "metadata": {
    "colab": {
      "provenance": [],
      "authorship_tag": "ABX9TyNUFWUFO1SiqoAqY5DpHxA0",
      "include_colab_link": true
    },
    "kernelspec": {
      "name": "python3",
      "display_name": "Python 3"
    },
    "language_info": {
      "name": "python"
    }
  },
  "cells": [
    {
      "cell_type": "markdown",
      "metadata": {
        "id": "view-in-github",
        "colab_type": "text"
      },
      "source": [
        "<a href=\"https://colab.research.google.com/github/Xander50/C-123/blob/main/C_123.ipynb\" target=\"_parent\"><img src=\"https://colab.research.google.com/assets/colab-badge.svg\" alt=\"Open In Colab\"/></a>"
      ]
    },
    {
      "cell_type": "code",
      "execution_count": 3,
      "metadata": {
        "id": "TpJC85TcWBuP"
      },
      "outputs": [],
      "source": [
        "import numpy as np\n",
        "import random\n",
        "\n",
        "rewards=np.array([\n",
        "    [-1,-1,-1,-1,0,-1],\n",
        "    [-1,-1,-1,0,-1,100],\n",
        "    [-1,-1,-1,0,-1,-1],\n",
        "    [-1,0,0,-1,-1,-1],\n",
        "    [0,-1,-1,-1,-1,100],\n",
        "    [-1,-1,-1,-1,0,100]\n",
        "])"
      ]
    },
    {
      "cell_type": "code",
      "source": [
        "def set_initial_state():\n",
        "  return np.random.randint(0,6)\n",
        "set_initial_state()"
      ],
      "metadata": {
        "colab": {
          "base_uri": "https://localhost:8080/"
        },
        "id": "QG6OtRI4XLjX",
        "outputId": "2a68479c-a5ce-4998-f8f3-07f5f7d18054"
      },
      "execution_count": 5,
      "outputs": [
        {
          "output_type": "execute_result",
          "data": {
            "text/plain": [
              "0"
            ]
          },
          "metadata": {},
          "execution_count": 5
        }
      ]
    },
    {
      "cell_type": "code",
      "source": [
        "def get_action(current_state,reward_matrix):\n",
        "  available_action=[]\n",
        "  print(\"reward_matrix\",\"\\n\",reward_matrix)\n",
        "  for action in enumerate(reward_matrix[current_state]):\n",
        "    if action[1]!=-1:\n",
        "      available_action.append(action[0])\n",
        "  choose_action=random.choice(available_action)\n",
        "  print(\"random choice of action from\", available_action,\"is\",choose_action)\n",
        "  return choose_action\n",
        "\n",
        "  "
      ],
      "metadata": {
        "id": "--nzoMCuXonn"
      },
      "execution_count": 8,
      "outputs": []
    },
    {
      "cell_type": "code",
      "source": [
        "current_state=3\n",
        "action=get_action(current_state,rewards)\n",
        "print(action)"
      ],
      "metadata": {
        "colab": {
          "base_uri": "https://localhost:8080/"
        },
        "id": "sbjsc0C0ZL-_",
        "outputId": "60bfefb8-ee77-48d0-a851-71aa6d8d9028"
      },
      "execution_count": 9,
      "outputs": [
        {
          "output_type": "stream",
          "name": "stdout",
          "text": [
            "reward_matrix \n",
            " [[ -1  -1  -1  -1   0  -1]\n",
            " [ -1  -1  -1   0  -1 100]\n",
            " [ -1  -1  -1   0  -1  -1]\n",
            " [ -1   0   0  -1  -1  -1]\n",
            " [  0  -1  -1  -1  -1 100]\n",
            " [ -1  -1  -1  -1   0 100]]\n",
            "random choice of action from [1, 2] is 1\n",
            "1\n"
          ]
        }
      ]
    }
  ]
}